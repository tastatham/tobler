{
 "cells": [
  {
   "cell_type": "markdown",
   "metadata": {},
   "source": [
    "# `numba` tests\n",
    "\n",
    "This notebook documents and serves as a scratchpad for exploring `numba`-based acceleration on areal interpolation.\n",
    "\n",
    "**NOTE** - To be removed/relocated once/if functionality is merged\n",
    "\n",
    "---\n",
    "\n",
    "**IMPORTANT**\n",
    "\n",
    "As of Dec. 17th'20, the multi-core implementation requires the versions in `main` for `pygeos` and `geopandas`. On a working environment with the latest released versions (as the `gds_env:5.0`), this can be achieved by:\n",
    "\n",
    "```shell\n",
    "pip install --no-deps git+https://github.com/pygeos/pygeos.git\n",
    "pip install --no-deps git+https://github.com/geopandas/geopandas.git\n",
    "```\n",
    "\n",
    "---"
   ]
  },
  {
   "cell_type": "code",
   "execution_count": 1,
   "metadata": {},
   "outputs": [],
   "source": [
    "from tobler.area_weighted.area_interpolate import _area_tables_binning, _area_tables_binning_parallel\n",
    "import geopandas, pandas\n",
    "\n",
    "summary = lambda src, tgt: print(\n",
    "    f\"Transfer {src.shape[0]} polygons into {tgt.shape[0]}\"\n",
    ")\n",
    "\n",
    "def down_load(p):\n",
    "    fn = f\"/home/jovyan/{p.split('/')[0]}\"\n",
    "    try:\n",
    "        return geopandas.read_file(fn)\n",
    "    except:\n",
    "        ! wget $p -O $fn\n",
    "        return geopandas.read_file(fn)"
   ]
  },
  {
   "cell_type": "markdown",
   "metadata": {},
   "source": [
    "## Data setup"
   ]
  },
  {
   "cell_type": "markdown",
   "metadata": {},
   "source": [
    "- Minimal problem"
   ]
  },
  {
   "cell_type": "code",
   "execution_count": 2,
   "metadata": {},
   "outputs": [
    {
     "name": "stdout",
     "output_type": "stream",
     "text": [
      "Transfer 628 polygons into 628\n"
     ]
    }
   ],
   "source": [
    "p = (\"https://geographicdata.science/book/_downloads/\"\\\n",
    "     \"f2341ee89163afe06b42fc5d5ed38060/sandiego_tracts.gpkg\")\n",
    "src = down_load(p).rename(lambda i: 'i'+str(i))\n",
    "\n",
    "p = (\"https://geographicdata.science/book/_downloads/\"\\\n",
    "     \"d740a1069144baa1302b9561c3d31afe/sd_h3_grid.gpkg\")\n",
    "tgt = down_load(p).rename(lambda i: 'i'+str(i)).to_crs(src.crs)\n",
    "\n",
    "w, s, e, n = tgt.total_bounds\n",
    "#src = src.cx[w:e, s:n]\n",
    "summary(src, tgt)"
   ]
  },
  {
   "cell_type": "markdown",
   "metadata": {},
   "source": [
    "- Slightly larger problem"
   ]
  },
  {
   "cell_type": "code",
   "execution_count": 3,
   "metadata": {},
   "outputs": [
    {
     "name": "stdout",
     "output_type": "stream",
     "text": [
      "Transfer 3140 polygons into 2512\n"
     ]
    }
   ],
   "source": [
    "# Tracts\n",
    "p = \"https://ndownloader.figshare.com/files/20460645\"\n",
    "src = down_load(p)\n",
    "src = pandas.concat([src]*5)\n",
    "\n",
    "# Precincts\n",
    "p = \"https://ndownloader.figshare.com/files/20460549\"\n",
    "tgt = down_load(p).to_crs(src.crs)\n",
    "tgt = pandas.concat([tgt]*4)\n",
    "summary(src, tgt)"
   ]
  },
  {
   "cell_type": "markdown",
   "metadata": {},
   "source": [
    "## Correctness"
   ]
  },
  {
   "cell_type": "code",
   "execution_count": 4,
   "metadata": {},
   "outputs": [
    {
     "data": {
      "text/plain": [
       "0"
      ]
     },
     "execution_count": 4,
     "metadata": {},
     "output_type": "execute_result"
    }
   ],
   "source": [
    "cross2 = _area_tables_binning_parallel(src, tgt, n_jobs=1)\n",
    "cross = _area_tables_binning(src, tgt, 'auto')\n",
    "(cross != cross2).sum()"
   ]
  },
  {
   "cell_type": "markdown",
   "metadata": {},
   "source": [
    "## Performance"
   ]
  },
  {
   "cell_type": "markdown",
   "metadata": {},
   "source": [
    "Results with all observations in first dataset:"
   ]
  },
  {
   "cell_type": "code",
   "execution_count": 5,
   "metadata": {},
   "outputs": [
    {
     "name": "stdout",
     "output_type": "stream",
     "text": [
      "2.22 s ± 20.6 ms per loop (mean ± std. dev. of 7 runs, 1 loop each)\n"
     ]
    }
   ],
   "source": [
    "%timeit cross = _area_tables_binning(src, tgt, 'auto')"
   ]
  },
  {
   "cell_type": "code",
   "execution_count": 6,
   "metadata": {},
   "outputs": [
    {
     "name": "stdout",
     "output_type": "stream",
     "text": [
      "2.22 s ± 25.6 ms per loop (mean ± std. dev. of 7 runs, 1 loop each)\n"
     ]
    }
   ],
   "source": [
    "%timeit cross2 = _area_tables_binning_parallel(src, tgt, n_jobs=1)"
   ]
  },
  {
   "cell_type": "code",
   "execution_count": 7,
   "metadata": {},
   "outputs": [
    {
     "name": "stdout",
     "output_type": "stream",
     "text": [
      "756 ms ± 21 ms per loop (mean ± std. dev. of 7 runs, 1 loop each)\n"
     ]
    }
   ],
   "source": [
    "%timeit cross3 = _area_tables_binning_parallel(src, tgt, n_jobs=-1)"
   ]
  },
  {
   "cell_type": "markdown",
   "metadata": {},
   "source": [
    "---"
   ]
  },
  {
   "cell_type": "markdown",
   "metadata": {},
   "source": [
    "Results with second dataset:"
   ]
  },
  {
   "cell_type": "code",
   "execution_count": 5,
   "metadata": {},
   "outputs": [
    {
     "name": "stdout",
     "output_type": "stream",
     "text": [
      "CPU times: user 47.5 s, sys: 15.8 ms, total: 47.5 s\n",
      "Wall time: 47.6 s\n"
     ]
    }
   ],
   "source": [
    "%time cross = _area_tables_binning(src, tgt, 'auto')"
   ]
  },
  {
   "cell_type": "code",
   "execution_count": 8,
   "metadata": {},
   "outputs": [
    {
     "name": "stdout",
     "output_type": "stream",
     "text": [
      "CPU times: user 46.8 s, sys: 108 ms, total: 46.9 s\n",
      "Wall time: 46.9 s\n"
     ]
    }
   ],
   "source": [
    "%time cross3 = _area_tables_binning_parallel(src, tgt, n_jobs=1)"
   ]
  },
  {
   "cell_type": "code",
   "execution_count": 6,
   "metadata": {},
   "outputs": [
    {
     "name": "stdout",
     "output_type": "stream",
     "text": [
      "CPU times: user 1.86 s, sys: 488 ms, total: 2.35 s\n",
      "Wall time: 9.61 s\n"
     ]
    }
   ],
   "source": [
    "%time cross3 = _area_tables_binning_parallel(src, tgt, n_jobs=-1)"
   ]
  }
 ],
 "metadata": {
  "kernelspec": {
   "display_name": "Python 3",
   "language": "python",
   "name": "python3"
  },
  "language_info": {
   "codemirror_mode": {
    "name": "ipython",
    "version": 3
   },
   "file_extension": ".py",
   "mimetype": "text/x-python",
   "name": "python",
   "nbconvert_exporter": "python",
   "pygments_lexer": "ipython3",
   "version": "3.7.8"
  }
 },
 "nbformat": 4,
 "nbformat_minor": 4
}
